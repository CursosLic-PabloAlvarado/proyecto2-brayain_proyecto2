{
 "cells": [
  {
   "cell_type": "code",
   "execution_count": 1,
   "id": "80ceec42",
   "metadata": {},
   "outputs": [],
   "source": [
    "#!pip install gymnasium[atari]\n",
    "#!pip install gymnasium[accept-rom-license]\n",
    "#!pip install --upgrade gym ale-py\n",
    "#!pip install keyboard\n",
    "#!pip install keras\n",
    "#!pip install tensorflow\n",
    "#!pip install wandb\n",
    "import tensorflow as tf\n",
    "from tensorflow import keras\n",
    "import numpy as np\n",
    "from collections import deque\n",
    "\n",
    "from ale_py import ALEInterface\n",
    "from ale_py.roms import SpaceInvaders\n",
    "import pathlib\n",
    "import gymnasium as gym\n",
    "import wandb\n",
    "\n"
   ]
  },
  {
   "cell_type": "code",
   "execution_count": 2,
   "id": "c5a057ce",
   "metadata": {},
   "outputs": [],
   "source": [
    "#Inicializar interfaz\n",
    "ale = ALEInterface()\n"
   ]
  },
  {
   "cell_type": "code",
   "execution_count": 3,
   "id": "c81a5020",
   "metadata": {},
   "outputs": [],
   "source": [
    "#cargar juego\n",
    "ale.loadROM(SpaceInvaders)\n",
    "\n",
    "env = gym.make('ALE/SpaceInvaders-v5')\n",
    "\n",
    "n_inputs = env.observation_space.shape[0]\n",
    "n_outputs = env.action_space.n\n"
   ]
  },
  {
   "cell_type": "code",
   "execution_count": 4,
   "id": "03e8edaa",
   "metadata": {},
   "outputs": [
    {
     "name": "stderr",
     "output_type": "stream",
     "text": [
      "WARNING:absl:`lr` is deprecated in Keras optimizer, please use `learning_rate` or use the legacy optimizer, e.g.,tf.keras.optimizers.legacy.Adam.\n"
     ]
    }
   ],
   "source": [
    "main_nn = keras.Sequential([\n",
    "    keras.layers.Conv2D(32, (8, 8), strides=4, activation='relu', input_shape=(210, 160, 3)),\n",
    "    keras.layers.Conv2D(64, (4, 4), strides=2, activation='relu'),\n",
    "    keras.layers.Conv2D(64, (3, 3), strides=1, activation='relu'),\n",
    "    keras.layers.Flatten(),\n",
    "    keras.layers.Dense(512, activation='relu'),\n",
    "    keras.layers.Dense(n_outputs)\n",
    "])\n",
    "\n",
    "target_nn = keras.models.clone_model(main_nn)\n",
    "\n",
    "optimizer = keras.optimizers.Adam(lr=0.01)\n",
    "loss_fn = keras.losses.mean_squared_error\n",
    "\n",
    "replay_buffer = deque(maxlen=10000)"
   ]
  },
  {
   "cell_type": "code",
   "execution_count": 5,
   "id": "3475d220",
   "metadata": {},
   "outputs": [],
   "source": [
    "def epsilon_greedy_policy(state, epsilon=0):\n",
    "    if np.random.rand() < epsilon:\n",
    "        return np.random.randint(n_outputs)\n",
    "    else:\n",
    "\n",
    "        if isinstance(state, tuple) and len(state) == 2 and isinstance(state[0], np.ndarray) and isinstance(state[1], dict):\n",
    "            Q_values = main_nn.predict(state[0][np.newaxis])\n",
    "        else:\n",
    "            Q_values = main_nn.predict(state[np.newaxis])\n",
    "            \n",
    "        return np.argmax(Q_values[0])"
   ]
  },
  {
   "cell_type": "code",
   "execution_count": 6,
   "id": "e6bb7361",
   "metadata": {},
   "outputs": [],
   "source": [
    "def sample_experiences(batch_size):\n",
    "    indices = np.random.randint(len(replay_buffer), size=batch_size)\n",
    "    batch = [replay_buffer[index] for index in indices]\n",
    "    states, actions, rewards, next_states, dones = [\n",
    "        np.array([experience[field_index] for experience in batch], dtype=object)\n",
    "        for field_index in range(5)]\n",
    "    return states, actions, rewards, next_states, dones\n",
    "\n"
   ]
  },
  {
   "cell_type": "code",
   "execution_count": 7,
   "id": "e7b672a9",
   "metadata": {},
   "outputs": [],
   "source": [
    "def play_one_step(env, state, epsilon):\n",
    "    action = epsilon_greedy_policy(state, epsilon)\n",
    "    result = env.step(action)\n",
    "    next_state, reward, done, _,_ = env.step(action)\n",
    "    if next_state.dtype == np.uint8:\n",
    "        replay_buffer.append((state, action, reward, next_state, done))\n",
    "    return next_state, reward\n"
   ]
  },
  {
   "cell_type": "code",
   "execution_count": 8,
   "id": "954e8217",
   "metadata": {},
   "outputs": [],
   "source": [
    "discount_rate = 0.99\n",
    "\n",
    "\n",
    "def training_step(batch_size):\n",
    "    experiences = sample_experiences(batch_size)\n",
    "    states, actions, rewards, next_states, dones = experiences\n",
    "    next_Q_values = target_nn.predict(next_states.astype('float32'))\n",
    "    max_next_Q_values = np.max(next_Q_values, axis=1)\n",
    "    target_Q_values = (rewards + (1 - dones) * discount_rate * max_next_Q_values)\n",
    "    target_Q_values = target_Q_values.reshape(-1, 1)\n",
    "    mask = tf.one_hot(actions.astype('int32'), n_outputs)\n",
    "    with tf.GradientTape() as tape:\n",
    "        for i in range(len(states)):\n",
    "            if isinstance(states[i], tuple):\n",
    "                states[i] = states[i-1]\n",
    "        all_Q_values = main_nn(tf.convert_to_tensor(np.stack([np.array(state, dtype=object) for state in states]).astype('float32')))\n",
    "        Q_values = tf.reduce_sum(all_Q_values * mask, axis=1, keepdims=True)\n",
    "        loss = tf.reduce_mean(loss_fn(target_Q_values.astype('float32'), Q_values))\n",
    "    grads = tape.gradient(loss, main_nn.trainable_variables)\n",
    "    optimizer.apply_gradients(zip(grads, main_nn.trainable_variables))\n",
    "    return loss.numpy()"
   ]
  },
  {
   "cell_type": "code",
   "execution_count": 9,
   "id": "6537137a",
   "metadata": {},
   "outputs": [
    {
     "ename": "SyntaxError",
     "evalue": "invalid syntax (1271219994.py, line 1)",
     "output_type": "error",
     "traceback": [
      "\u001b[1;36m  Cell \u001b[1;32mIn[9], line 1\u001b[1;36m\u001b[0m\n\u001b[1;33m    wandb login --relogin\u001b[0m\n\u001b[1;37m          ^\u001b[0m\n\u001b[1;31mSyntaxError\u001b[0m\u001b[1;31m:\u001b[0m invalid syntax\n"
     ]
    }
   ],
   "source": [
    "wandb login --relogin"
   ]
  },
  {
   "cell_type": "code",
   "execution_count": null,
   "id": "542ebb21",
   "metadata": {},
   "outputs": [],
   "source": [
    "#LOOP DEL JUEGO\n",
    "wandb.init(project=\"my-space-invaders-project\")\n",
    "for episode in range(600):\n",
    "\n",
    "    if episode == 590:\n",
    "        env = gym.make('ALE/SpaceInvaders-v5',render_mode='human');\n",
    "        \n",
    "    obs = env.reset()\n",
    "    total_reward = 0\n",
    "    for step in range(200):\n",
    "        epsilon = max(1 - episode / 500, 0.01)\n",
    "        obs, reward = play_one_step(env, obs, epsilon)\n",
    "\n",
    "        if episode > 50:\n",
    "            loss = training_step(32)\n",
    "        total_reward += reward\n",
    "    wandb.log({\"loss\": loss})\n",
    "    wandb.log({\"episode\": episode, \"total_reward\": total_reward})\n",
    "    print(f\"Episode: {episode}\")\n",
    "    \n",
    "main_nn.save('my_dqn.h5')"
   ]
  },
  {
   "cell_type": "code",
   "execution_count": null,
   "id": "6e5526d1",
   "metadata": {},
   "outputs": [],
   "source": []
  }
 ],
 "metadata": {
  "kernelspec": {
   "display_name": "Python 3 (ipykernel)",
   "language": "python",
   "name": "python3"
  },
  "language_info": {
   "codemirror_mode": {
    "name": "ipython",
    "version": 3
   },
   "file_extension": ".py",
   "mimetype": "text/x-python",
   "name": "python",
   "nbconvert_exporter": "python",
   "pygments_lexer": "ipython3",
   "version": "3.10.9"
  }
 },
 "nbformat": 4,
 "nbformat_minor": 5
}
